{
  "nbformat": 4,
  "nbformat_minor": 0,
  "metadata": {
    "colab": {
      "name": "Torrent Resumable.ipynb",
      "provenance": [],
      "collapsed_sections": [
        "cMAu3ViEsetF",
        "czJeP9DQtDWP",
        "5jPMJQ36GiMx",
        "mzGUesePwUsq"
      ],
      "mount_file_id": "15NZdmMsoQmccsIB6fqWzxxG7DUlQFUC_",
      "authorship_tag": "ABX9TyPi6iDPETowfqgAVIkCC1Bc",
      "include_colab_link": true
    },
    "kernelspec": {
      "name": "python3",
      "display_name": "Python 3"
    }
  },
  "cells": [
    {
      "cell_type": "markdown",
      "metadata": {
        "id": "view-in-github",
        "colab_type": "text"
      },
      "source": [
        "<a href=\"https://colab.research.google.com/github/FayedFahad/GDrive-Uploading/blob/master/ColabTorrent_Resumable.ipynb\" target=\"_parent\"><img src=\"https://colab.research.google.com/assets/colab-badge.svg\" alt=\"Open In Colab\"/></a>"
      ]
    },
    {
      "cell_type": "markdown",
      "metadata": {
        "id": "cMAu3ViEsetF",
        "colab_type": "text"
      },
      "source": [
        "## **Install Torrent Client**"
      ]
    },
    {
      "cell_type": "code",
      "metadata": {
        "id": "95PVWe8_ryGL",
        "colab_type": "code",
        "colab": {
          "base_uri": "https://localhost:8080/",
          "height": 160
        },
        "outputId": "310c78f7-d623-452a-fd3a-d94d5214264a"
      },
      "source": [
        "!apt-get install transmission-cli\n",
        "!sudo echo \"net.core.wmem_max = 1048576\" >> /etc/sysctl.conf\n",
        "!sudo echo \"net.core.rmem_max = 4194304\" >> /etc/sysctl.conf"
      ],
      "execution_count": null,
      "outputs": [
        {
          "output_type": "stream",
          "text": [
            "Reading package lists... Done\n",
            "Building dependency tree       \n",
            "Reading state information... Done\n",
            "transmission-cli is already the newest version (2.92-3ubuntu2).\n",
            "The following package was automatically installed and is no longer required:\n",
            "  libnvidia-common-440\n",
            "Use 'apt autoremove' to remove it.\n",
            "0 upgraded, 0 newly installed, 0 to remove and 35 not upgraded.\n"
          ],
          "name": "stdout"
        }
      ]
    },
    {
      "cell_type": "markdown",
      "metadata": {
        "id": "czJeP9DQtDWP",
        "colab_type": "text"
      },
      "source": [
        "## **PATH Input & Torrent Name**"
      ]
    },
    {
      "cell_type": "code",
      "metadata": {
        "id": "lfrC7315tEmP",
        "colab_type": "code",
        "colab": {}
      },
      "source": [
        "from os import chdir\n",
        "chdir(\"/content/drive/Shared drives/Gd13Receive1/Blacked/Torrent\")\n",
        "!transmission-cli -D -g \"/content/drive/Shared drives/Gd13Receive1/Blacked/Config\" -w \"/content/drive/Shared drives/Gd13Receive1/Blacked\" lzks.torrent"
      ],
      "execution_count": null,
      "outputs": []
    },
    {
      "cell_type": "markdown",
      "metadata": {
        "id": "5jPMJQ36GiMx",
        "colab_type": "text"
      },
      "source": [
        "## **Magnet Link**"
      ]
    },
    {
      "cell_type": "code",
      "metadata": {
        "id": "j_bRj0C5rXqO",
        "colab_type": "code",
        "colab": {},
        "cellView": "both"
      },
      "source": [
        "!transmission-cli -D -g \"/content/drive/Shared drives/Additional Shared Drive/config\" -w \"/content/drive/Shared drives/\" MAGNET_LINK_HERE"
      ],
      "execution_count": null,
      "outputs": []
    },
    {
      "cell_type": "markdown",
      "metadata": {
        "id": "mzGUesePwUsq",
        "colab_type": "text"
      },
      "source": [
        "## NOTES"
      ]
    },
    {
      "cell_type": "markdown",
      "metadata": {
        "id": "zl4-a5GYux67",
        "colab_type": "text"
      },
      "source": [
        ">1] Path where Torrent file is located\n",
        "<BR>\n",
        ">2] Create a config folder & Path of that folder\n",
        "<BR>\n",
        ">3]Path Of where video files will be downloaded\n",
        "\n",
        "For Magnet Link\n",
        ">1]Config Path\n",
        "<br>\n",
        ">2]Where to download Path\n",
        "<br>\n",
        ">3]Magnet Link "
      ]
    }
  ]
}