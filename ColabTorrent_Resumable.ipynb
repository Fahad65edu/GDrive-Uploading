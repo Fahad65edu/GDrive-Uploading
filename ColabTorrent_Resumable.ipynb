{
  "nbformat": 4,
  "nbformat_minor": 0,
  "metadata": {
    "colab": {
      "name": "Torrent Simple.ipynb",
      "provenance": [],
      "collapsed_sections": [
        "NaFa7M-e9YOr",
        "R_1XuuIf9YOn",
        "WD-6M6eZyzmj",
        "m-a1CUP39YOu"
      ],
      "mount_file_id": "1n_nHxrjGByYwHoFJ-bGo-sWHl6xDukhC",
      "authorship_tag": "ABX9TyM0t6IhAmAL7ziW3JMA6SVG",
      "include_colab_link": true
    },
    "kernelspec": {
      "name": "python3",
      "display_name": "Python 3"
    }
  },
  "cells": [
    {
      "cell_type": "markdown",
      "metadata": {
        "id": "view-in-github",
        "colab_type": "text"
      },
      "source": [
        "<a href=\"https://colab.research.google.com/github/FayedFahad/GDrive-Uploading/blob/master/ColabTorrent_Resumable.ipynb\" target=\"_parent\"><img src=\"https://colab.research.google.com/assets/colab-badge.svg\" alt=\"Open In Colab\"/></a>"
      ]
    },
    {
      "cell_type": "markdown",
      "metadata": {
        "id": "cMAu3ViEsetF"
      },
      "source": [
        "## **Install Torrent Client**"
      ]
    },
    {
      "cell_type": "code",
      "metadata": {
        "id": "95PVWe8_ryGL"
      },
      "source": [
        "!apt-get install transmission-cli\n",
        "!sudo echo \"net.core.wmem_max = 1048576\" >> /etc/sysctl.conf\n",
        "!sudo echo \"net.core.rmem_max = 4194304\" >> /etc/sysctl.conf"
      ],
      "execution_count": null,
      "outputs": []
    },
    {
      "cell_type": "markdown",
      "metadata": {
        "id": "czJeP9DQtDWP"
      },
      "source": [
        "## **PATH Input & Torrent Name**"
      ]
    },
    {
      "cell_type": "code",
      "metadata": {
        "id": "lfrC7315tEmP",
        "outputId": "29c437eb-085a-47d5-923c-ad3e4362b39d",
        "colab": {
          "base_uri": "https://localhost:8080/",
          "height": 294
        }
      },
      "source": [
        "from os import chdir\n",
        "chdir(\"/content/drive/Shared drives/Gd13Receive1/Torrent/Torrent Files\")\n",
        "!transmission-cli -D -g \"/content/drive/Shared drives/Gd13Receive1/Torrent/Config\" -w \"/content/drive/Shared drives/Gd13Receive1/Torrent\" sb.torrent"
      ],
      "execution_count": null,
      "outputs": [
        {
          "output_type": "stream",
          "text": [
            "transmission-cli 2.92 (14714)\n",
            "[2020-09-30 18:38:32.189] Transmission 2.92 (14714) started\n",
            "[2020-09-30 18:38:32.191] RPC Server: Adding address to whitelist: 127.0.0.1\n",
            "[2020-09-30 18:38:32.191] UDP: Failed to set receive buffer: requested 4194304, got 425984\n",
            "[2020-09-30 18:38:32.191] UDP: Please add the line \"net.core.rmem_max = 4194304\" to /etc/sysctl.conf\n",
            "[2020-09-30 18:38:32.191] UDP: Failed to set send buffer: requested 1048576, got 425984\n",
            "[2020-09-30 18:38:32.191] UDP: Please add the line \"net.core.wmem_max = 1048576\" to /etc/sysctl.conf\n",
            "[2020-09-30 18:38:32.192] DHT: Reusing old id\n",
            "[2020-09-30 18:38:32.192] DHT: Bootstrapping from 40 IPv4 nodes\n",
            "[2020-09-30 18:38:32.521] Port Forwarding (NAT-PMP): initnatpmp succeeded (0)\n",
            "[2020-09-30 18:38:32.521] Port Forwarding (NAT-PMP): sendpublicaddressrequest succeeded (2)\n",
            "[2020-09-30 18:38:34.093] Saved \"/content/drive/Shared drives/Gd13Receive1/Torrent/Config/torrents/Savannah Bond.f6e50157eb4151db.torrent\"\n",
            "Progress: 0.0%, dl from 0 of 0 peers (0 kB/s), ul t"
          ],
          "name": "stdout"
        }
      ]
    },
    {
      "cell_type": "markdown",
      "metadata": {
        "id": "5jPMJQ36GiMx"
      },
      "source": [
        "## **Magnet Link**"
      ]
    },
    {
      "cell_type": "code",
      "metadata": {
        "id": "j_bRj0C5rXqO",
        "cellView": "both"
      },
      "source": [
        "!transmission-cli -D -g \"/content/drive/Shared drives/Additional Shared Drive/config\" -w \"/content/drive/Shared drives/\" MAGNET_LINK_HERE"
      ],
      "execution_count": null,
      "outputs": []
    },
    {
      "cell_type": "markdown",
      "metadata": {
        "id": "mzGUesePwUsq"
      },
      "source": [
        "## *NOTES*"
      ]
    },
    {
      "cell_type": "markdown",
      "metadata": {
        "id": "zl4-a5GYux67"
      },
      "source": [
        ">1] Path where Torrent file is located\n",
        "<BR>\n",
        ">2] Create a config folder & Path of that folder\n",
        "<BR>\n",
        ">3]Path Of where video files will be downloaded\n",
        "\n",
        "For Magnet Link\n",
        ">1]Config Path\n",
        "<br>\n",
        ">2]Where to download Path\n",
        "<br>\n",
        ">3]Magnet Link "
      ]
    },
    {
      "cell_type": "code",
      "metadata": {
        "cellView": "both",
        "id": "oT1oQFR7f1V6"
      },
      "source": [
        "!transmission-cli -D -g \"/content/drive/Shared drives/Additional Shared Drive/config\" -w \"/content/drive/Shared drives/\" MAGNET_LINK_HERE"
      ],
      "execution_count": null,
      "outputs": []
    },
    {
      "cell_type": "markdown",
      "metadata": {
        "id": "NaFa7M-e9YOr"
      },
      "source": [
        "## SIMPLE TORRNTING\n",
        "Install libtorrent"
      ]
    },
    {
      "cell_type": "code",
      "metadata": {
        "id": "m6hF0emftx4h"
      },
      "source": [
        "!apt install python3-libtorrent\n",
        "\n",
        "import libtorrent as lt\n",
        "\n",
        "ses = lt.session()\n",
        "ses.listen_on(6881, 6891)\n",
        "downloads = []"
      ],
      "execution_count": null,
      "outputs": []
    },
    {
      "cell_type": "markdown",
      "metadata": {
        "id": "R_1XuuIf9YOn"
      },
      "source": [
        "Add From Torrent File"
      ]
    },
    {
      "cell_type": "code",
      "metadata": {
        "id": "0et2A6N3udA0"
      },
      "source": [
        "from google.colab import files\n",
        "\n",
        "source = files.upload()\n",
        "params = {\n",
        "    \"save_path\": \"/content/drive/My Drive/Torrent\",\n",
        "    \"ti\": lt.torrent_info(list(source.keys())[0]),\n",
        "}\n",
        "downloads.append(ses.add_torrent(params))"
      ],
      "execution_count": null,
      "outputs": []
    },
    {
      "cell_type": "markdown",
      "metadata": {
        "id": "WD-6M6eZyzmj"
      },
      "source": [
        " Add From Magnet Link"
      ]
    },
    {
      "cell_type": "code",
      "metadata": {
        "id": "Cwi1GMlxy3te"
      },
      "source": [
        "params = {\"save_path\": \"/content/drive/My Drive/Torrent\"}\n",
        "\n",
        "while True:\n",
        "    magnet_link = input(\"Enter Magnet Link Or Type Exit: \")\n",
        "    if magnet_link.lower() == \"exit\":\n",
        "        break\n",
        "    downloads.append(\n",
        "        lt.add_magnet_uri(ses, magnet_link, params)\n",
        "    )\n"
      ],
      "execution_count": null,
      "outputs": []
    },
    {
      "cell_type": "markdown",
      "metadata": {
        "id": "m-a1CUP39YOu"
      },
      "source": [
        "Start Download"
      ]
    },
    {
      "cell_type": "code",
      "metadata": {
        "id": "DBNoYYoSuDBT"
      },
      "source": [
        "import time\n",
        "from IPython.display import display\n",
        "import ipywidgets as widgets\n",
        "\n",
        "state_str = [\n",
        "    \"queued\",\n",
        "    \"checking\",\n",
        "    \"downloading metadata\",\n",
        "    \"downloading\",\n",
        "    \"finished\",\n",
        "    \"seeding\",\n",
        "    \"allocating\",\n",
        "    \"checking fastresume\",\n",
        "]\n",
        "\n",
        "layout = widgets.Layout(width=\"auto\")\n",
        "style = {\"description_width\": \"initial\"}\n",
        "download_bars = [\n",
        "    widgets.FloatSlider(\n",
        "        step=0.01, disabled=True, layout=layout, style=style\n",
        "    )\n",
        "    for _ in downloads\n",
        "]\n",
        "display(*download_bars)\n",
        "\n",
        "while downloads:\n",
        "    next_shift = 0\n",
        "    for index, download in enumerate(downloads[:]):\n",
        "        bar = download_bars[index + next_shift]\n",
        "        if not download.is_seed():\n",
        "            s = download.status()\n",
        "\n",
        "            bar.description = \" \".join(\n",
        "                [\n",
        "                    download.name(),\n",
        "                    str(s.download_rate / 1000),\n",
        "                    \"kB/s\",\n",
        "                    state_str[s.state],\n",
        "                ]\n",
        "            )\n",
        "            bar.value = s.progress * 100\n",
        "        else:\n",
        "            next_shift -= 1\n",
        "            ses.remove_torrent(download)\n",
        "            downloads.remove(download)\n",
        "            bar.close() # Seems to be not working in Colab (see https://github.com/googlecolab/colabtools/issues/726#issue-486731758)\n",
        "            download_bars.remove(bar)\n",
        "            print(download.name(), \"complete\")\n",
        "    time.sleep(1)\n"
      ],
      "execution_count": null,
      "outputs": []
    }
  ]
}