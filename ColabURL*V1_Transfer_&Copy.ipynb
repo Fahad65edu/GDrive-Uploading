{
  "nbformat": 4,
  "nbformat_minor": 0,
  "metadata": {
    "colab": {
      "name": "URL Transfer & Drive Copy.ipynb",
      "provenance": [],
      "collapsed_sections": [
        "UrX-UwTFN_HJ",
        "bmbXVd61_Usv",
        "6UIorcC6iV0H",
        "C7_JiNRGgMi3"
      ],
      "authorship_tag": "ABX9TyM14zVBX1bKvdJcsKqi9w8Y",
      "include_colab_link": true
    },
    "kernelspec": {
      "name": "python3",
      "display_name": "Python 3"
    }
  },
  "cells": [
    {
      "cell_type": "markdown",
      "metadata": {
        "id": "view-in-github",
        "colab_type": "text"
      },
      "source": [
        "<a href=\"https://colab.research.google.com/github/FayedFahad/GDrive-Uploading/blob/master/ColabURL*V1_Transfer_%26Copy.ipynb\" target=\"_parent\"><img src=\"https://colab.research.google.com/assets/colab-badge.svg\" alt=\"Open In Colab\"/></a>"
      ]
    },
    {
      "cell_type": "markdown",
      "metadata": {
        "id": "UrX-UwTFN_HJ",
        "colab_type": "text"
      },
      "source": [
        "##**Download Link inside \"\"** M-1"
      ]
    },
    {
      "cell_type": "code",
      "metadata": {
        "id": "Zy3Kau9FOFaX",
        "colab_type": "code",
        "cellView": "both",
        "colab": {}
      },
      "source": [
        "import os\n",
        "os.chdir(\"/content/drive/My Drive\")\n",
        "!wget -c \"download-link\" --no-check-certificate"
      ],
      "execution_count": null,
      "outputs": []
    },
    {
      "cell_type": "markdown",
      "metadata": {
        "id": "bmbXVd61_Usv",
        "colab_type": "text"
      },
      "source": [
        "##***Download Link Wihout \"\"*** M-2 [Cliget]"
      ]
    },
    {
      "cell_type": "code",
      "metadata": {
        "id": "027byJIT9UXz",
        "colab_type": "code",
        "colab": {}
      },
      "source": [
        "import os\n",
        "os.chdir(\"/content/gdrive/Shared drives/Gd13Receive1\")\n",
        "!wget -c --header 'Host: download-evil.gammacdn.com' --user-agent 'Mozilla/5.0 (Windows NT 6.2; Win64; x64; rv:79.0) Gecko/20100101 Firefox/79.0' --header 'Accept: text/html,application/xhtml+xml,application/xml;q=0.9,image/webp,*/*;q=0.8' --header 'Accept-Language: en-US,en;q=0.5' --referer 'https://members.evilangel.com/en' --header 'Upgrade-Insecure-Requests: 1' 'https://download-evilangel.gammacdn.com/mp4/9/1/2/9/c79219/79219_03_1080p.mp4?uh=978472434c4e4de211a7ab4375b14e6cd9ccad300a7c30c48b482142e28c6674&cui=13942988&response-content-disposition=attachment%3Bfilename%3D%22CuteMartinaSmeraldiWreckMyHoles_s03_AngelLong_JohnStagliano_1080p.mp4%22&response-content-type=application%2Foctet-stream&Policy=eyJTdGF0ZW1lbnQiOlt7IlJlc291cmNlIjoiaHR0cHM6Ly9kb3dubG9hZC1ldmlsYW5nZWwuZ2FtbWFjZG4uY29tL21wNC85LzEvMi85L2M3OTIxOS83OTIxOV8wM18xMDgwcC5tcDQ~dWg9OTc4NDcyNDM0YzRlNGRlMjExYTdhYjQzNzViMTRlNmNkOWNjYWQzMDBhN2MzMGM0OGI0ODIxNDJlMjhjNjY3NCZjdWk9MTM5NDI5ODgmcmVzcG9uc2UtY29udGVudC1kaXNwb3NpdGlvbj1hdHRhY2htZW50JTNCZmlsZW5hbWUlM0QlMjJDdXRlTWFydGluYVNtZXJhbGRpV3JlY2tNeUhvbGVzX3MwM19BbmdlbExvbmdfSm9oblN0YWdsaWFub18xMDgwcC5tcDQlMjImcmVzcG9uc2UtY29udGVudC10eXBlPWFwcGxpY2F0aW9uJTJGb2N0ZXQtc3RyZWFtIiwiQ29uZGl0aW9uIjp7IkRhdGVMZXNzVGhhbiI6eyJBV1M6RXBvY2hUaW1lIjoxNTk3MjE0MDMxfX19XX0_&Signature=LfTk9CgcaYhLD3m998vdlsUGUDDET0hEuEu6B3tL2ah2CrGQwrpFMEcDm9Pr3zPnazPv0KpPxoOsaz0u8bPbddUkLtD9Iv1KNPa8Vb472hH0dBgWpvBfUtken02hLogCR6dha~ms8368S~bSrCAf9bSZ9YrGHNhCDwE8jvnQOJGU4t~2sNsMXBXJzh71ZA9GJet-ZNoq99pQVY8mmdWXAEIKz3yTMlQ9nkuW-MB17f7RPUfrHh2uZCwUKqh6NaWQCFX-9FAVPcbzpOQ5L49nmTYzdOQWYoTs4oDjVS7PUpCBNSrZFYcBbSiShjABxOE0MsuGi-YeNSBYEnwDmcBRhg__&Key-Pair-Id=APKAIRQBNEZPTJQK3JAQ' --output-document 'Angel_John_1080p.mp4' --no-check-certificate"
      ],
      "execution_count": null,
      "outputs": []
    },
    {
      "cell_type": "markdown",
      "metadata": {
        "id": "6UIorcC6iV0H",
        "colab_type": "text"
      },
      "source": [
        "##**GD To GD Transfer**"
      ]
    },
    {
      "cell_type": "code",
      "metadata": {
        "id": "on4ILN7Ug4pm",
        "colab_type": "code",
        "colab": {}
      },
      "source": [
        "!sudo cp -v -r \"/content/gdrive/Shared drives/Rabby/Movies/\" \"/content/gdrive/Shared drives/Gd13Receive/Paste here\""
      ],
      "execution_count": null,
      "outputs": []
    },
    {
      "cell_type": "markdown",
      "metadata": {
        "id": "C7_JiNRGgMi3",
        "colab_type": "text"
      },
      "source": [
        "##**Manually Mount**"
      ]
    },
    {
      "cell_type": "code",
      "metadata": {
        "id": "B9fFcfmCesgx",
        "colab_type": "code",
        "colab": {}
      },
      "source": [
        "from google.colab import drive\n",
        "drive.mount('/content/gdrive')"
      ],
      "execution_count": null,
      "outputs": []
    }
  ]
}
