{
  "nbformat": 4,
  "nbformat_minor": 0,
  "metadata": {
    "colab": {
      "name": "URL Transfer & Drive Copy.ipynb",
      "provenance": [],
      "collapsed_sections": [
        "UrX-UwTFN_HJ",
        "bmbXVd61_Usv",
        "6UIorcC6iV0H",
        "C7_JiNRGgMi3"
      ],
      "toc_visible": true
    },
    "kernelspec": {
      "name": "python3",
      "display_name": "Python 3"
    }
  },
  "cells": [
    {
      "cell_type": "markdown",
      "metadata": {
        "id": "UrX-UwTFN_HJ"
      },
      "source": [
        "##**Download Link inside \"\"** M-1"
      ]
    },
    {
      "cell_type": "code",
      "metadata": {
        "id": "Zy3Kau9FOFaX",
        "cellView": "both"
      },
      "source": [
        "import os\n",
        "os.chdir(\"/content/drive/My Drive\")\n",
        "!wget -c \"download-link\" --no-check-certificate"
      ],
      "execution_count": null,
      "outputs": []
    },
    {
      "cell_type": "markdown",
      "metadata": {
        "id": "bmbXVd61_Usv"
      },
      "source": [
        "##***Download Link Wihout \"\"*** M-2 [Cliget]"
      ]
    },
    {
      "cell_type": "code",
      "metadata": {
        "id": "027byJIT9UXz"
      },
      "source": [
        "import os\n",
        "os.chdir(\"/content/gdrive/Shared drives/Gd13Receive1\")\n",
        "!wget -c --header 'Host: download-ev.gammacdn.com' --user-agent 'Mozilla/5.0 (Windows NT 6.2; Win64; x64; rv:79.0) Gecko/20100101 Firefox/79.0' --header 'Accept: text/html,application/xhtml+xml,application/xml;q=0.9,image/webp,*/*;q=0.8' --header 'Accept-Language: en-US,en;q=0.5' --referer '.com/en' --header 'Upgrade-Insecure-Requests: 1' '.com/mp4/9/1/2/9/c79?uh=978472434c4e4de211a7ab4375b14e6cd9ccad300a0p.mp4' --no-check-certificate"
      ],
      "execution_count": null,
      "outputs": []
    },
    {
      "cell_type": "markdown",
      "metadata": {
        "id": "6UIorcC6iV0H"
      },
      "source": [
        "##**GD To GD Transfer**"
      ]
    },
    {
      "cell_type": "code",
      "metadata": {
        "id": "on4ILN7Ug4pm"
      },
      "source": [
        "!sudo cp -v -r \"/content/gdrive/Shared drives/Rabby/Movies/\" \"/content/gdrive/Shared drives/Gd13Receive/Paste here\""
      ],
      "execution_count": null,
      "outputs": []
    },
    {
      "cell_type": "code",
      "metadata": {
        "id": "4UT3gANxMEWK"
      },
      "source": [
        "#copying using rsync\n",
        "!sudo rsync -r --progress \"/content/gdrive/Shared drives/Rabby/Movies/\" \"/content/gdrive/Shared drives/Gd13Receive/Paste here\""
      ],
      "execution_count": null,
      "outputs": []
    },
    {
      "cell_type": "markdown",
      "metadata": {
        "id": "C7_JiNRGgMi3"
      },
      "source": [
        "##**Manually Mount**"
      ]
    },
    {
      "cell_type": "code",
      "metadata": {
        "id": "B9fFcfmCesgx"
      },
      "source": [
        "from google.colab import drive\n",
        "drive.mount('/content/gdrive')"
      ],
      "execution_count": null,
      "outputs": []
    }
  ]
}
