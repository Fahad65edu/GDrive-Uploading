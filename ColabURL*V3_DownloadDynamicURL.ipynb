{
  "nbformat": 4,
  "nbformat_minor": 0,
  "metadata": {
    "colab": {
      "name": "DownloadDynamicURL.ipynb",
      "provenance": [],
      "collapsed_sections": [
        "J8QyqsCAKvxl"
      ],
      "mount_file_id": "1DU3JZyYlTCfRzAUnqR863jPm0GT3sLHs",
      "authorship_tag": "ABX9TyMqAh8N9AuH3pbdDeXrTtwm",
      "include_colab_link": true
    },
    "kernelspec": {
      "name": "python3",
      "display_name": "Python 3"
    },
    "language_info": {
      "name": "python"
    }
  },
  "cells": [
    {
      "cell_type": "markdown",
      "metadata": {
        "id": "view-in-github",
        "colab_type": "text"
      },
      "source": [
        "<a href=\"https://colab.research.google.com/github/FayedFahad/GDrive-Uploading/blob/master/ColabURL*V3_DownloadDynamicURL.ipynb\" target=\"_parent\"><img src=\"https://colab.research.google.com/assets/colab-badge.svg\" alt=\"Open In Colab\"/></a>"
      ]
    },
    {
      "cell_type": "markdown",
      "metadata": {
        "id": "J8QyqsCAKvxl"
      },
      "source": [
        "## ***Download Link Wihout CURL***\n",
        "\n"
      ]
    },
    {
      "cell_type": "code",
      "metadata": {
        "id": "6QOv-NetKvxl",
        "cellView": "form"
      },
      "source": [
        "#@markdown <br><center><img src='https://upload.wikimedia.org/wikipedia/commons/thumb/d/da/Google_Drive_logo.png/600px-Google_Drive_logo.png' height=\"50\" alt=\"Gdrive-logo\"/></center>\n",
        "#@markdown <center> <b>Path</b> of the folder </center>\n",
        "Folder = \"/content/drive/Shareddrives/Woodman/Woodman Account\" #@param {type:\"string\"}\n",
        "from os import chdir\n",
        "chdir (Folder)\n",
        "print(\"You are in The Folder NOW !\")"
      ],
      "execution_count": null,
      "outputs": []
    },
    {
      "cell_type": "code",
      "metadata": {
        "id": "6ku2dKHvQnaI"
      },
      "source": [
        "! "
      ],
      "execution_count": null,
      "outputs": []
    },
    {
      "cell_type": "markdown",
      "metadata": {
        "id": "K5T46crXOPl9"
      },
      "source": [
        "## <img src=https://i.imgur.com/xAnqa55.png height=74 width=400 >"
      ]
    }
  ]
}