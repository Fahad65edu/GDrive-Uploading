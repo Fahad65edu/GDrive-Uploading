{
  "nbformat": 4,
  "nbformat_minor": 0,
  "metadata": {
    "colab": {
      "name": "Torrent Resumable v2.ipynb",
      "provenance": [],
      "collapsed_sections": [
        "czJeP9DQtDWP",
        "5jPMJQ36GiMx",
        "mzGUesePwUsq"
      ],
      "mount_file_id": "185Xo4mh2J1NeMvtCN74x9FPU8t-gyz9v",
      "authorship_tag": "ABX9TyNFMCeWd/Y+cxszII7ke8SB",
      "include_colab_link": true
    },
    "kernelspec": {
      "name": "python3",
      "display_name": "Python 3"
    }
  },
  "cells": [
    {
      "cell_type": "markdown",
      "metadata": {
        "id": "view-in-github",
        "colab_type": "text"
      },
      "source": [
        "<a href=\"https://colab.research.google.com/github/FayedFahad/GDrive-Uploading/blob/master/Torrent_Resumable_v2.ipynb\" target=\"_parent\"><img src=\"https://colab.research.google.com/assets/colab-badge.svg\" alt=\"Open In Colab\"/></a>"
      ]
    },
    {
      "cell_type": "markdown",
      "metadata": {
        "id": "cMAu3ViEsetF"
      },
      "source": [
        "## **Install Torrent Client**"
      ]
    },
    {
      "cell_type": "code",
      "metadata": {
        "id": "95PVWe8_ryGL"
      },
      "source": [
        "!apt-get install transmission-cli\n",
        "!sudo echo \"net.core.wmem_max = 1048576\" >> /etc/sysctl.conf\n",
        "!sudo echo \"net.core.rmem_max = 4194304\" >> /etc/sysctl.conf"
      ],
      "execution_count": null,
      "outputs": []
    },
    {
      "cell_type": "markdown",
      "metadata": {
        "id": "czJeP9DQtDWP"
      },
      "source": [
        "## **PATH Input & Torrent Name**"
      ]
    },
    {
      "cell_type": "code",
      "metadata": {
        "id": "lfrC7315tEmP"
      },
      "source": [
        "from os import chdir\n",
        "chdir(\"/content/drive/Shared drives/Gd13Receive1/Torrent/Torrent Files\")\n",
        "!transmission-cli -D -g \"/content/drive/Shared drives/Gd13Receive1/Torrent/Config\" -w \"/content/drive/Shared drives/Gd13Receive1/Torrent\" ez.torrent"
      ],
      "execution_count": null,
      "outputs": []
    },
    {
      "cell_type": "markdown",
      "metadata": {
        "id": "5jPMJQ36GiMx"
      },
      "source": [
        "## **Magnet Link**"
      ]
    },
    {
      "cell_type": "code",
      "metadata": {
        "id": "j_bRj0C5rXqO",
        "cellView": "both"
      },
      "source": [
        "!transmission-cli -D -g \"/content/drive/Shared drives/Additional Shared Drive/config\" -w \"/content/drive/Shared drives/\" MAGNET_LINK_HERE"
      ],
      "execution_count": null,
      "outputs": []
    },
    {
      "cell_type": "markdown",
      "metadata": {
        "id": "mzGUesePwUsq"
      },
      "source": [
        "## NOTES"
      ]
    },
    {
      "cell_type": "markdown",
      "metadata": {
        "id": "zl4-a5GYux67"
      },
      "source": [
        ">1] Path where Torrent file is located\n",
        "<BR>\n",
        ">2] Create a config folder & Path of that folder\n",
        "<BR>\n",
        ">3]Path Of where video files will be downloaded\n",
        "\n",
        "For Magnet Link\n",
        ">1]Config Path\n",
        "<br>\n",
        ">2]Where to download Path\n",
        "<br>\n",
        ">3]Magnet Link "
      ]
    }
  ]
}