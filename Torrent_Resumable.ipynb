{
  "nbformat": 4,
  "nbformat_minor": 0,
  "metadata": {
    "colab": {
      "name": "Torrent Resumable.ipynb",
      "provenance": [],
      "collapsed_sections": [],
      "authorship_tag": "ABX9TyO/XelCmq1ZrDK+vAP/g4H9",
      "include_colab_link": true
    },
    "kernelspec": {
      "name": "python3",
      "display_name": "Python 3"
    }
  },
  "cells": [
    {
      "cell_type": "markdown",
      "metadata": {
        "id": "view-in-github",
        "colab_type": "text"
      },
      "source": [
        "<a href=\"https://colab.research.google.com/github/FayedFahad/GDrive-Uploading/blob/master/Torrent_Resumable.ipynb\" target=\"_parent\"><img src=\"https://colab.research.google.com/assets/colab-badge.svg\" alt=\"Open In Colab\"/></a>"
      ]
    },
    {
      "cell_type": "markdown",
      "metadata": {
        "id": "cMAu3ViEsetF",
        "colab_type": "text"
      },
      "source": [
        "## **Install Torrent Client**"
      ]
    },
    {
      "cell_type": "code",
      "metadata": {
        "id": "95PVWe8_ryGL",
        "colab_type": "code",
        "colab": {}
      },
      "source": [
        "!apt-get install transmission-cli\n",
        "!sudo echo \"net.core.wmem_max = 1048576\" >> /etc/sysctl.conf\n",
        "!sudo echo \"net.core.rmem_max = 4194304\" >> /etc/sysctl.conf"
      ],
      "execution_count": null,
      "outputs": []
    },
    {
      "cell_type": "markdown",
      "metadata": {
        "id": "czJeP9DQtDWP",
        "colab_type": "text"
      },
      "source": [
        "## **PATH Input & Torrent Name**"
      ]
    },
    {
      "cell_type": "code",
      "metadata": {
        "id": "lfrC7315tEmP",
        "colab_type": "code",
        "colab": {}
      },
      "source": [
        "from os import chdir\n",
        "chdir(\"Torrent Folder PATH\")\n",
        "!transmission-cli -D -g \"Config Folder PATH\" -w \"Expected Files Download PATH\" TORRENtFileNAME.torrent"
      ],
      "execution_count": null,
      "outputs": []
    },
    {
      "cell_type": "markdown",
      "metadata": {
        "id": "mzGUesePwUsq",
        "colab_type": "text"
      },
      "source": [
        "## NOTES"
      ]
    },
    {
      "cell_type": "markdown",
      "metadata": {
        "id": "zl4-a5GYux67",
        "colab_type": "text"
      },
      "source": [
        ">1] Path where Torrent file is located\n",
        "<BR>\n",
        ">2] Create a config folder & Path of that folder\n",
        "<BR>\n",
        ">3]Path Of where video files will be downloaded"
      ]
    }
  ]
}